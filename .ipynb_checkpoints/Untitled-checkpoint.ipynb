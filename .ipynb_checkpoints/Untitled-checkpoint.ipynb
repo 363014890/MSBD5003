{
 "cells": [
  {
   "cell_type": "code",
   "execution_count": 61,
   "id": "50e58c3a",
   "metadata": {},
   "outputs": [],
   "source": [
    "df = spark.read.csv('../data/sales.csv', header=True, inferSchema=True)"
   ]
  },
  {
   "cell_type": "code",
   "execution_count": 23,
   "id": "8f05c5a0",
   "metadata": {},
   "outputs": [
    {
     "name": "stdout",
     "output_type": "stream",
     "text": [
      "+----------------+--------+-----+------------+-----------------+--------------------+--------+--------------+----------------+----------------+-----------+----------+\n",
      "|Transaction_date| Product|Price|Payment_Type|             Name|                City|   State|       Country| Account_Created|      Last_Login|   Latitude| Longitude|\n",
      "+----------------+--------+-----+------------+-----------------+--------------------+--------+--------------+----------------+----------------+-----------+----------+\n",
      "| 01/02/2009 6:17|Product1| 1200|  Mastercard|         carolina|            Basildon| England|United Kingdom| 01/02/2009 6:00| 01/02/2009 6:08|       51.5|-1.1166667|\n",
      "| 01/02/2009 4:53|Product1| 1200|        Visa|           Betina|Parkville        ...|      MO| United States| 01/02/2009 4:42| 01/02/2009 7:49|     39.195| -94.68194|\n",
      "|01/02/2009 13:08|Product1| 1200|  Mastercard|Federica e Andrea|Astoria          ...|      OR| United States|01/01/2009 16:21|01/03/2009 12:32|   46.18806|   -123.83|\n",
      "|01/03/2009 14:44|Product1| 1200|        Visa|            Gouya|              Echuca|Victoria|     Australia|   9/25/05 21:13|01/03/2009 14:22|-36.1333333|    144.75|\n",
      "|01/04/2009 12:56|Product2| 3600|        Visa|          Gerd W |Cahaba Heights   ...|      AL| United States|  11/15/08 15:47|01/04/2009 12:45|   33.52056|  -86.8025|\n",
      "+----------------+--------+-----+------------+-----------------+--------------------+--------+--------------+----------------+----------------+-----------+----------+\n",
      "only showing top 5 rows\n",
      "\n"
     ]
    }
   ],
   "source": [
    "df.show(5)"
   ]
  },
  {
   "cell_type": "code",
   "execution_count": 5,
   "id": "08ee097f",
   "metadata": {},
   "outputs": [
    {
     "name": "stdout",
     "output_type": "stream",
     "text": [
      "+-------------+\n",
      "|      Country|\n",
      "+-------------+\n",
      "|       Sweden|\n",
      "|       Jersey|\n",
      "|     Malaysia|\n",
      "|       Turkey|\n",
      "|      Germany|\n",
      "|       France|\n",
      "|      Belgium|\n",
      "|      Finland|\n",
      "|United States|\n",
      "|        India|\n",
      "|       Kuwait|\n",
      "|        Malta|\n",
      "|        Italy|\n",
      "|       Norway|\n",
      "|        Spain|\n",
      "|      Denmark|\n",
      "|      Ireland|\n",
      "|       Israel|\n",
      "|      Iceland|\n",
      "|  South Korea|\n",
      "+-------------+\n",
      "only showing top 20 rows\n",
      "\n"
     ]
    }
   ],
   "source": [
    "df.select('Country').distinct().show()"
   ]
  },
  {
   "cell_type": "code",
   "execution_count": 15,
   "id": "0cbe894c",
   "metadata": {},
   "outputs": [
    {
     "name": "stdout",
     "output_type": "stream",
     "text": [
      "+-------+\n",
      "|   Name|\n",
      "+-------+\n",
      "|Joachim|\n",
      "|  Diana|\n",
      "+-------+\n",
      "\n"
     ]
    },
    {
     "name": "stderr",
     "output_type": "stream",
     "text": [
      "\r",
      "[Stage 6:>                                                          (0 + 1) / 1]\r",
      "\r",
      "                                                                                \r"
     ]
    }
   ],
   "source": [
    "# df.where(\"Country == 'Brazil'\").select('Name').show()\n"
   ]
  },
  {
   "cell_type": "code",
   "execution_count": 93,
   "id": "6c110483",
   "metadata": {},
   "outputs": [
    {
     "name": "stdout",
     "output_type": "stream",
     "text": [
      "+-------------+----------+\n",
      "|      Country|sum(Price)|\n",
      "+-------------+----------+\n",
      "|       Sweden|      8400|\n",
      "|       Jersey|      1200|\n",
      "|     Malaysia|      1200|\n",
      "|       Turkey|      2400|\n",
      "|      Germany|     22800|\n",
      "|       France|     30300|\n",
      "|      Belgium|      3600|\n",
      "|      Finland|      1200|\n",
      "|United States|    350350|\n",
      "|        India|      2400|\n",
      "|       Kuwait|      1200|\n",
      "|        Malta|      3600|\n",
      "|        Italy|      2400|\n",
      "|       Norway|     12000|\n",
      "|        Spain|      2400|\n",
      "|      Denmark|      8400|\n",
      "|      Ireland|     29100|\n",
      "|       Israel|      1200|\n",
      "|      Iceland|      1200|\n",
      "|  South Korea|      1200|\n",
      "+-------------+----------+\n",
      "only showing top 20 rows\n",
      "\n"
     ]
    }
   ],
   "source": [
    "df.groupBy(\"Country\").sum(\"Price\").show()"
   ]
  },
  {
   "cell_type": "code",
   "execution_count": 46,
   "id": "7079dbd8",
   "metadata": {
    "scrolled": true
   },
   "outputs": [
    {
     "name": "stdout",
     "output_type": "stream",
     "text": [
      "+--------------------+----------+\n",
      "|             Country|sum(Price)|\n",
      "+--------------------+----------+\n",
      "|       United States|    350350|\n",
      "|      United Kingdom|     63600|\n",
      "|              Canada|     42000|\n",
      "|              France|     30300|\n",
      "|             Ireland|     29100|\n",
      "|           Australia|     22800|\n",
      "|             Germany|     22800|\n",
      "|         Switzerland|     19200|\n",
      "|         Netherlands|     14400|\n",
      "|              Norway|     12000|\n",
      "|              Brazil|      8700|\n",
      "|              Sweden|      8400|\n",
      "|             Denmark|      8400|\n",
      "|               Malta|      3600|\n",
      "|United Arab Emirates|      3600|\n",
      "|             Austria|      3600|\n",
      "|             Belgium|      3600|\n",
      "|        South Africa|      3600|\n",
      "|              Turkey|      2400|\n",
      "|               India|      2400|\n",
      "+--------------------+----------+\n",
      "only showing top 20 rows\n",
      "\n"
     ]
    }
   ],
   "source": [
    "df.groupBy(\"Country\").sum(\"Price\").orderBy(\"sum(Price)\", ascending = False).show()"
   ]
  },
  {
   "cell_type": "code",
   "execution_count": 50,
   "id": "c4bfd4b7",
   "metadata": {
    "scrolled": true
   },
   "outputs": [],
   "source": [
    "df2 = spark.read.csv('../data/countries.csv', header=True, inferSchema=True)"
   ]
  },
  {
   "cell_type": "code",
   "execution_count": 79,
   "id": "c6a92f41",
   "metadata": {
    "scrolled": false
   },
   "outputs": [
    {
     "name": "stdout",
     "output_type": "stream",
     "text": [
      "+---+----------+\n",
      "| ID|sum(Price)|\n",
      "+---+----------+\n",
      "|  2|    350350|\n",
      "|  1|     63600|\n",
      "|  8|     42000|\n",
      "|  5|     30300|\n",
      "|  7|     29100|\n",
      "| 19|     22800|\n",
      "|  3|     22800|\n",
      "| 12|     19200|\n",
      "|  6|     14400|\n",
      "| 16|     12000|\n",
      "| 33|      8700|\n",
      "| 13|      8400|\n",
      "| 15|      8400|\n",
      "| 26|      3600|\n",
      "| 22|      3600|\n",
      "| 10|      3600|\n",
      "| 28|      3600|\n",
      "| 14|      3600|\n",
      "| 34|      2400|\n",
      "|  9|      2400|\n",
      "+---+----------+\n",
      "only showing top 20 rows\n",
      "\n"
     ]
    }
   ],
   "source": [
    "df.join(df2,\"Country\").select(\"ID\", \"Price\").groupBy(\"ID\").sum(\"Price\").orderBy(\"sum(Price)\", ascending = False).show()"
   ]
  },
  {
   "cell_type": "code",
   "execution_count": 78,
   "id": "738bf3ea",
   "metadata": {},
   "outputs": [
    {
     "data": {
      "text/plain": [
       "378"
      ]
     },
     "execution_count": 78,
     "metadata": {},
     "output_type": "execute_result"
    }
   ],
   "source": [
    "df.groupBy(\"Name\").count().count()"
   ]
  },
  {
   "cell_type": "code",
   "execution_count": 156,
   "id": "9a40f49f",
   "metadata": {},
   "outputs": [
    {
     "name": "stdout",
     "output_type": "stream",
     "text": [
      "+---+---+----+\n",
      "|src|dst|rank|\n",
      "+---+---+----+\n",
      "|  3|  4|   1|\n",
      "|  1|  3|   1|\n",
      "|  1|  2|   1|\n",
      "|  4|  1|   1|\n",
      "|  2|  1|   1|\n",
      "|  2|  3|   1|\n",
      "+---+---+----+\n",
      "\n",
      "+---+-----+\n",
      "|src|count|\n",
      "+---+-----+\n",
      "|  3|    1|\n",
      "|  1|    2|\n",
      "|  4|    1|\n",
      "|  2|    2|\n",
      "+---+-----+\n",
      "\n",
      "+---+---+----+-----+\n",
      "|src|dst|rank|count|\n",
      "+---+---+----+-----+\n",
      "|  1|  3|   1|    2|\n",
      "|  1|  2|   1|    2|\n",
      "|  2|  1|   1|    2|\n",
      "|  2|  3|   1|    2|\n",
      "|  3|  4|   1|    1|\n",
      "|  4|  1|   1|    1|\n",
      "+---+---+----+-----+\n",
      "\n"
     ]
    }
   ],
   "source": [
    "from pyspark.sql.functions import *\n",
    "\n",
    "numOfIterations = 10\n",
    "\n",
    "lines = spark.read.text(\"../data/pagerank_data.txt\")\n",
    "# You can also test your program on the follow larger data set:\n",
    "# lines = spark.read.text(\"../data/dblp.in\")\n",
    "\n",
    "a = lines.select(split(lines[0],' '))\n",
    "# print(a.show())\n",
    "links = a.select(a[0][0].alias('src'), a[0][1].alias('dst'))\n",
    "# print(links.show())\n",
    "outdegrees = links.groupBy('src').count()\n",
    "# print(outdegrees.show())\n",
    "ranks = outdegrees.select('src', lit(1).alias('rank'))\n",
    "# print(ranks.show())\n",
    "tmp = links.join(ranks, \"src\")\n",
    "tmp.show()\n",
    "tmp1 = tmp.groupBy('src').count()\n",
    "tmp1.show()\n",
    "tmp2 = tmp.join(tmp1, \"src\")\n",
    "# tmp2.show()\n",
    "tmp2.withColumn(\"newRank\", col('rank')/col('count'))\n",
    "tmp2.show()\n",
    "# ranks.show()\n",
    "# tmp2.select('src', 'rank', 'count',\\\n",
    "#             ().alias('rank'))\n",
    "\n",
    "# tmp.groupBy('src','rank').count().show()\n",
    "\n",
    "# for iteration in range(numOfIterations):\n",
    "# # FILL IN THIS PART\n",
    "#     tmp = links.join(ranks, \"src\")\n",
    "#     outDegrees = tmp.groupBy('src','rank').count()\n",
    "    \n",
    "# ranks.orderBy(desc('rank')).show()"
   ]
  }
 ],
 "metadata": {
  "kernelspec": {
   "display_name": "Python 3 (ipykernel)",
   "language": "python",
   "name": "python3"
  },
  "language_info": {
   "codemirror_mode": {
    "name": "ipython",
    "version": 3
   },
   "file_extension": ".py",
   "mimetype": "text/x-python",
   "name": "python",
   "nbconvert_exporter": "python",
   "pygments_lexer": "ipython3",
   "version": "3.9.13"
  }
 },
 "nbformat": 4,
 "nbformat_minor": 5
}
